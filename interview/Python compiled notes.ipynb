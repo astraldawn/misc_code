{
 "cells": [
  {
   "cell_type": "markdown",
   "metadata": {},
   "source": [
    "Created to prepare for interviews"
   ]
  },
  {
   "cell_type": "markdown",
   "metadata": {},
   "source": [
    "# Table of contents\n",
    "- [Style](#Style)\n",
    "- [General python](#General-python)\n",
    "- [Algorithms](#Algorithms)\n",
    "- [Worked solutions](#Worked-solutions)\n",
    "- [Interview](#Interview)"
   ]
  },
  {
   "cell_type": "markdown",
   "metadata": {},
   "source": [
    "## Style\n",
    "- [Variable swap](#Variable-swap)\n",
    "- [Ignored variables](#Ignored-variables)\n",
    "- [Lists of lists](#List-of-lists)\n",
    "- [String from list](#String-from-list)\n",
    "- [Searching in collection](#Searching-in-collection)\n",
    "- [Checking if a variable equals constant](#Checking-if-a-variable-equals-constant)\n",
    "- [Dictionary access](#Dictionary-access)\n",
    "- [Filter](#Filter)\n",
    "- [Map](#Map)\n",
    "- [Enumerate](#Enumerate)\n",
    "- [File access](#File-access)\n",
    "- [Collections](#Collections)\n",
    "\n",
    "[Back to top](#Table-of-contents)"
   ]
  },
  {
   "cell_type": "markdown",
   "metadata": {},
   "source": [
    "### Variable swap \n",
    "Without any additional memory"
   ]
  },
  {
   "cell_type": "code",
   "execution_count": 1,
   "metadata": {
    "collapsed": false
   },
   "outputs": [
    {
     "name": "stdout",
     "output_type": "stream",
     "text": [
      "hi bye\n",
      "bye hi\n"
     ]
    }
   ],
   "source": [
    "a = \"hi\"\n",
    "b = \"bye\"\n",
    "print a, b\n",
    "a, b = b, a\n",
    "print a, b"
   ]
  },
  {
   "cell_type": "markdown",
   "metadata": {},
   "source": [
    "### Ignored variables"
   ]
  },
  {
   "cell_type": "code",
   "execution_count": 2,
   "metadata": {
    "collapsed": true
   },
   "outputs": [],
   "source": [
    "filename = 'a.txt'\n",
    "basename, _, ext = filename.rpartition('.')"
   ]
  },
  {
   "cell_type": "markdown",
   "metadata": {},
   "source": [
    "### List of lists\n",
    "**Ideally construct using numpy**\n",
    "\n",
    "This process is necessary as lists are mutable objects (unlike primitives).\n",
    "\n",
    "Simply taking list * n will create n references to the same list"
   ]
  },
  {
   "cell_type": "code",
   "execution_count": 3,
   "metadata": {
    "collapsed": false
   },
   "outputs": [],
   "source": [
    "n = 5\n",
    "\n",
    "# Four nones\n",
    "four_none = [None] * 4\n",
    "\n",
    "# Length n list of lists\n",
    "n_lists = [[] for _ in xrange(n)]\n",
    "\n",
    "# 2D list\n",
    "twod_list = [[0 for _ in xrange(n)] for _ in xrange(n)]\n",
    "\n",
    "# The numpy way\n",
    "import numpy as np\n",
    "\n",
    "twod_np = np.empty((n, n))\n",
    "twod_np.fill(0)"
   ]
  },
  {
   "cell_type": "markdown",
   "metadata": {},
   "source": [
    "### String from list\n",
    "Analogous to stringbuilder"
   ]
  },
  {
   "cell_type": "code",
   "execution_count": 4,
   "metadata": {
    "collapsed": true
   },
   "outputs": [],
   "source": [
    "letters = ['a', 'b', 'c', 'd']\n",
    "word = ''.join(letters)"
   ]
  },
  {
   "cell_type": "markdown",
   "metadata": {},
   "source": [
    "### Searching in collection\n",
    "\n",
    "Time complexity\n",
    "    - set / dict O(1)\n",
    "    - list O(N)"
   ]
  },
  {
   "cell_type": "code",
   "execution_count": 5,
   "metadata": {
    "collapsed": true
   },
   "outputs": [],
   "source": [
    "# item in collection\n",
    "# item not in collection"
   ]
  },
  {
   "cell_type": "markdown",
   "metadata": {},
   "source": [
    "### Checking if a variable equals constant\n",
    "\n",
    "Empty list evaluates to false"
   ]
  },
  {
   "cell_type": "code",
   "execution_count": 6,
   "metadata": {
    "collapsed": true
   },
   "outputs": [],
   "source": [
    "# if attr: # True\n",
    "# if not attr: # False"
   ]
  },
  {
   "cell_type": "markdown",
   "metadata": {},
   "source": [
    "### Dictionary access"
   ]
  },
  {
   "cell_type": "code",
   "execution_count": 7,
   "metadata": {
    "collapsed": true
   },
   "outputs": [],
   "source": [
    "d = {'a':'1'}\n",
    "if 'a' in d:\n",
    "    pass # Do something"
   ]
  },
  {
   "cell_type": "markdown",
   "metadata": {},
   "source": [
    "### Filter"
   ]
  },
  {
   "cell_type": "code",
   "execution_count": 8,
   "metadata": {
    "collapsed": true
   },
   "outputs": [],
   "source": [
    "a = [3, 4, 5]\n",
    "b = [i for i in a if i > 4]\n",
    "b = filter(lambda x: x > 4, a)"
   ]
  },
  {
   "cell_type": "markdown",
   "metadata": {},
   "source": [
    "### Map"
   ]
  },
  {
   "cell_type": "code",
   "execution_count": 9,
   "metadata": {
    "collapsed": true
   },
   "outputs": [],
   "source": [
    "a = [3, 4, 5]\n",
    "b = [i + 3 for i in a]\n",
    "b = map(lambda x: x + 3, a)"
   ]
  },
  {
   "cell_type": "markdown",
   "metadata": {},
   "source": [
    "### Enumerate"
   ]
  },
  {
   "cell_type": "code",
   "execution_count": 10,
   "metadata": {
    "collapsed": false
   },
   "outputs": [
    {
     "name": "stdout",
     "output_type": "stream",
     "text": [
      "0 3\n",
      "1 4\n",
      "2 5\n"
     ]
    }
   ],
   "source": [
    "for i, item in enumerate(a):\n",
    "    print i, item"
   ]
  },
  {
   "cell_type": "markdown",
   "metadata": {},
   "source": [
    "### File access\n",
    "with ensures the file is closed"
   ]
  },
  {
   "cell_type": "code",
   "execution_count": 11,
   "metadata": {
    "collapsed": false
   },
   "outputs": [
    {
     "name": "stdout",
     "output_type": "stream",
     "text": [
      "The quick brown fox jumped over the lazy dog.\n"
     ]
    }
   ],
   "source": [
    "with open('test.txt', 'rb') as f:\n",
    "   for line in f:\n",
    "       print line"
   ]
  },
  {
   "cell_type": "markdown",
   "metadata": {},
   "source": [
    "### Collections\n",
    "Powerful inbuilt libraries. Defaultdict is likely to be used. Other libraries include deque."
   ]
  },
  {
   "cell_type": "code",
   "execution_count": 12,
   "metadata": {
    "collapsed": false
   },
   "outputs": [
    {
     "name": "stdout",
     "output_type": "stream",
     "text": [
      "defaultdict(<type 'list'>, {'a': ['x', '5']})\n"
     ]
    }
   ],
   "source": [
    "from collections import defaultdict\n",
    "\n",
    "A = defaultdict(list)  # int can be used also\n",
    "A['a'].append('x')\n",
    "A['a'].append('5')\n",
    "print A"
   ]
  },
  {
   "cell_type": "markdown",
   "metadata": {},
   "source": [
    "## General python\n",
    "- [Mutable vs immutable](#Mutable-vs-immutable)\n",
    "- [Comparisons](#Comparisons)\n",
    "- [Range and xrange](#range-and-xrange)\n",
    "- [Generators / list comprehensions](#generators-and-list-comprehensions)\n",
    "- [Time complexity](#Time-complexity)\n",
    "- [Memory management](#Memory-management)\n",
    "\n",
    "[Back to top](#Table-of-contents)"
   ]
  },
  {
   "cell_type": "markdown",
   "metadata": {},
   "source": [
    "### Mutable vs immutable\n",
    "Mutable objects can be modifiying without changing the identity of the object. This has implications when passing information around. For example, one cannot pass a list around, as it is being passed by reference.\n",
    "\n",
    "**Mutable:** byte array / list / set / dict  \n",
    "**Immutable:** int float long complex str / bytes / tuple / frozen set\n",
    "\n",
    "[Back to general python](#General-python)"
   ]
  },
  {
   "cell_type": "markdown",
   "metadata": {},
   "source": [
    "### Comparisons\n",
    "\n",
    "**==**: the objects referred to by the variables are equal  \n",
    "**is**: variables point to the same object\n",
    "\n",
    "[Back to general python](#General-python)"
   ]
  },
  {
   "cell_type": "markdown",
   "metadata": {},
   "source": [
    "### range and xrange\n",
    "\n",
    "xrange generates an object that functions similarily to a generator. range creates the entire list.\n",
    "\n",
    "**For memory reasons, xrange is preferred over range**\n",
    "\n",
    "[Back to general python](#General-python)"
   ]
  },
  {
   "cell_type": "code",
   "execution_count": 13,
   "metadata": {
    "collapsed": false
   },
   "outputs": [
    {
     "name": "stdout",
     "output_type": "stream",
     "text": [
      "xrange(5)\n",
      "[0, 1, 2, 3, 4]\n"
     ]
    }
   ],
   "source": [
    "print xrange(5)\n",
    "print range(5)"
   ]
  },
  {
   "cell_type": "markdown",
   "metadata": {},
   "source": [
    "### Generators and list comprehensions\n",
    "\n",
    "Generators are objects that are iterable and whose values are produced on demand. Any function can be transformed into a generator by the use of the yield keyword.\n",
    "\n",
    "[Back to general python](#General-python)"
   ]
  },
  {
   "cell_type": "code",
   "execution_count": 14,
   "metadata": {
    "collapsed": false
   },
   "outputs": [
    {
     "name": "stdout",
     "output_type": "stream",
     "text": [
      "5050 5050 5050\n"
     ]
    }
   ],
   "source": [
    "def first_n(n):\n",
    "    num = 1\n",
    "    while num <= n:\n",
    "        yield num\n",
    "        num += 1\n",
    "\n",
    "a = sum(first_n(100))\n",
    "b = sum(xrange(1, 101))\n",
    "c = sum([x for x in range(1, 101)])\n",
    "\n",
    "print a, b, c"
   ]
  },
  {
   "cell_type": "markdown",
   "metadata": {},
   "source": [
    "### Time complexity\n",
    "Time complexity of certain operations\n",
    "\n",
    "[Back to general python](#General-python)"
   ]
  },
  {
   "cell_type": "markdown",
   "metadata": {},
   "source": [
    "### Memory management\n",
    "\n",
    "[Back to general python](#General-python)"
   ]
  },
  {
   "cell_type": "markdown",
   "metadata": {},
   "source": [
    "## Algorithms\n",
    "- Ad-hoc\n",
    "    - [Sorting](#Sorting)\n",
    "    - [Binary search](#Binary-search)\n",
    "    - [Hashing](#Hashing)\n",
    "    - [Random](#Random)\n",
    "- Dynamic programming\n",
    "    - [Coin change](#Coin-change)\n",
    "- Graphs\n",
    "- String processing\n",
    "\n",
    "[Back to top](#Table-of-contents)"
   ]
  },
  {
   "cell_type": "markdown",
   "metadata": {},
   "source": [
    "### Sorting\n",
    "Using sort (lists only) and sorted (everything else)\n",
    "\n",
    "Python uses Timsort, which is a stable sorting algorithm derived from mergesort and insertion sort.\n",
    "\n",
    "[Back to algorithms](#Algorithms)"
   ]
  },
  {
   "cell_type": "code",
   "execution_count": 15,
   "metadata": {
    "collapsed": false,
    "scrolled": true
   },
   "outputs": [
    {
     "name": "stdout",
     "output_type": "stream",
     "text": [
      "[1, 2, 3, 4, 5]\n",
      "[1, 2, 3, 4, 5]\n"
     ]
    }
   ],
   "source": [
    "a = [1, 2, 3, 4, 5]\n",
    "a.sort()\n",
    "print a\n",
    "print sorted(a)"
   ]
  },
  {
   "cell_type": "code",
   "execution_count": 16,
   "metadata": {
    "collapsed": false
   },
   "outputs": [
    {
     "name": "stdout",
     "output_type": "stream",
     "text": [
      "[('dave', 'B', 10), ('jane', 'B', 12), ('john', 'A', 15)]\n",
      "[('john', 'A', 15), ('jane', 'B', 12), ('dave', 'B', 10)]\n"
     ]
    }
   ],
   "source": [
    "student_tuples = [\n",
    "    ('john', 'A', 15),\n",
    "    ('jane', 'B', 12),\n",
    "    ('dave', 'B', 10),\n",
    "]\n",
    "print sorted(student_tuples, key=lambda x: x[2]) # Sort in ascending age\n",
    "print sorted(student_tuples, key=lambda x: -x[2]) # Sort in descending age"
   ]
  },
  {
   "cell_type": "markdown",
   "metadata": {},
   "source": [
    "### Binary search\n",
    "Examples that do it the full way as well as using bisect\n",
    "\n",
    "[Back to algorithms](#Algorithms)"
   ]
  },
  {
   "cell_type": "code",
   "execution_count": 17,
   "metadata": {
    "collapsed": false
   },
   "outputs": [
    {
     "name": "stdout",
     "output_type": "stream",
     "text": [
      "[0, 1, 2, 3, 4] [0, 1, 2, 3, 4, -1] [0, 1, 2, 3, 4, -1] [0, 1, 2, 3, 4, 5] [0, 1, 2, 3, 4, 5] [1, 2, 3, 4, 5, 5]\n"
     ]
    }
   ],
   "source": [
    "def binary_search_find(A, value):\n",
    "    low = 0\n",
    "    high = len(A) - 1\n",
    "\n",
    "    while low <= high:\n",
    "        mid = low + (high - low) / 2\n",
    "        if A[mid] == value:\n",
    "            return mid\n",
    "        elif A[mid] >= value:\n",
    "            high = mid - 1\n",
    "        else:\n",
    "            low = mid + 1\n",
    "    return -1\n",
    "\n",
    "\n",
    "def binary_search_left(A, value):\n",
    "    low = 0\n",
    "    high = len(A) - 1\n",
    "\n",
    "    while low <= high:\n",
    "        mid = low + (high - low) / 2\n",
    "        if A[mid] >= value:  # Leftmost insertion point (rightmost is >)\n",
    "            high = mid - 1\n",
    "        else:\n",
    "            low = mid + 1\n",
    "\n",
    "    return low\n",
    "\n",
    "\n",
    "import bisect\n",
    "\n",
    "\n",
    "def binary_search_find_python(A, value):\n",
    "    high = len(A) - 1\n",
    "    pos = bisect.bisect_left(A, value)\n",
    "\n",
    "    if pos <= high:\n",
    "        return pos\n",
    "\n",
    "    return -1\n",
    "\n",
    "\n",
    "A = range(5)\n",
    "B = [binary_search_find(A, x) for x in range(6)]\n",
    "B1 = [binary_search_find_python(A, x) for x in range(6)]\n",
    "C = [binary_search_left(A, x) for x in range(6)]\n",
    "D = [bisect.bisect_left(A, x) for x in range(6)]\n",
    "E = [bisect.bisect_right(A, x) for x in range(6)]\n",
    "print A, B, B1, C, D, E"
   ]
  },
  {
   "cell_type": "markdown",
   "metadata": {},
   "source": [
    "### Hashing\n",
    "Hashing library in Python includes many of the commonly known hash functions.\n",
    "\n",
    "MD5 shown below.\n",
    "\n",
    "[Back to algorithms](#Algorithms)"
   ]
  },
  {
   "cell_type": "code",
   "execution_count": 18,
   "metadata": {
    "collapsed": false
   },
   "outputs": [
    {
     "name": "stdout",
     "output_type": "stream",
     "text": [
      "5c6ffbdd40d9556b73a21e63c3e0e904\n"
     ]
    }
   ],
   "source": [
    "import hashlib\n",
    "\n",
    "# Using a block is important when dealing with files that may be very large\n",
    "BLOCKSIZE = 65536\n",
    "hasher = hashlib.md5()\n",
    "with open('test.txt', 'rb') as afile:\n",
    "    buf = afile.read(BLOCKSIZE)\n",
    "    while len(buf) > 0:\n",
    "        hasher.update(buf)\n",
    "        buf = afile.read(BLOCKSIZE)\n",
    "print(hasher.hexdigest())"
   ]
  },
  {
   "cell_type": "markdown",
   "metadata": {},
   "source": [
    "### Random\n",
    "\n",
    "Almost all module functions depend on the basic function random(), which generates a random float uniformly in the semi-open range [0.0, 1.0). Python uses the Mersenne Twister as the core generator. It produces 53-bit precision floats and has a period of 2^19937-1. The underlying implementation in C is both fast and threadsafe. The Mersenne Twister is one of the most extensively tested random number generators in existence. However, being completely deterministic, it is not suitable for all purposes, and is completely unsuitable for cryptographic purposes.\n",
    "\n",
    "**Array shuffle question: ** Given N '0' and M '1', write an algorithm that puts them into a list and returns each possible list with equal probability\n",
    "\n",
    "[Back to algorithms](#Algorithms)"
   ]
  },
  {
   "cell_type": "code",
   "execution_count": 19,
   "metadata": {
    "collapsed": false
   },
   "outputs": [
    {
     "name": "stdout",
     "output_type": "stream",
     "text": [
      "[0, 0, 0, 0, 0, 0, 0, 1, 0, 0, 0, 0, 0, 0, 1, 0, 0, 0, 0, 0, 0, 0, 0, 0, 1, 0, 0, 0, 0, 0, 0, 0, 0, 0, 0, 0, 0, 0, 0, 0, 0, 0, 0, 0, 0, 0, 0, 0, 0, 0, 0, 0, 0, 0, 0, 0, 0, 0, 0, 0, 0, 0, 0, 0]\n"
     ]
    }
   ],
   "source": [
    "from random import sample\n",
    "\n",
    "def array_shuffle(N, K):\n",
    "    A = [1] * K + [0] * (N - K)\n",
    "    return sample(A, len(A))\n",
    "    # sample(population, K) --> Random sampling without replacement\n",
    "    # shuffle(A) --> Not exactly correct due to limitations of the RNG? Need some math person to verify\n",
    "\n",
    "print array_shuffle(64, 3)\n",
    "\n",
    "# Generating a random number, O <= N <= M\n",
    "# print randint(0, M)"
   ]
  },
  {
   "cell_type": "markdown",
   "metadata": {},
   "source": [
    "### Coin change\n",
    "Classic dynamic programming problem. Given an amount N, with unlimited coins of M denominations, find the number of ways to make change.\n",
    "\n",
    "[Back to algorithms](#Algorithms)"
   ]
  },
  {
   "cell_type": "code",
   "execution_count": 20,
   "metadata": {
    "collapsed": false
   },
   "outputs": [
    {
     "name": "stdout",
     "output_type": "stream",
     "text": [
      "13\n"
     ]
    }
   ],
   "source": [
    "# Minimum number of coins needed\n",
    "def make_change1(amount, denom):\n",
    "    min_coins = np.zeros(amount + 1)\n",
    "    coin_used = np.zeros(amount + 1)\n",
    "    for i in xrange(amount + 1):\n",
    "        coin_count = i\n",
    "        new_coin = 1\n",
    "        for j in [k for k in denom if k <= i]:\n",
    "            if min_coins[i - j] + 1 < i:\n",
    "                coin_count = min_coins[i - j] + 1\n",
    "                new_coin = j\n",
    "        min_coins[i] = coin_count\n",
    "        coin_used[i] = new_coin\n",
    "    return min_coins[amount]\n",
    "\n",
    "\n",
    "# Number of ways to make change\n",
    "def make_change(amount, denom, index, c_map):\n",
    "    if c_map[amount][index] > 0:\n",
    "        return c_map[amount][index]\n",
    "    if index >= len(denom) - 1:\n",
    "        return 1\n",
    "    denom_amount = denom[index]\n",
    "    ways = 0\n",
    "\n",
    "    # Make a smaller amount without the current coin\n",
    "    for i in xrange(0, amount + 1, denom_amount):\n",
    "        ways += make_change(amount - i, denom, index + 1, c_map)\n",
    "    c_map[amount][index] = ways\n",
    "    return ways\n",
    "\n",
    "def make_change_better(n, denom, ways):\n",
    "    for coin in denom:\n",
    "        for i in xrange(coin, n + 1):\n",
    "            ways[i] += ways[i - coin]\n",
    "    return ways[n]\n",
    "\n",
    "\n",
    "def make_change_test():\n",
    "    denom = [25, 10, 5, 1]\n",
    "    n = 25\n",
    "    c_map = np.zeros((n + 1, len(denom)))\n",
    "    ways = [1] + [0] * n\n",
    "    result = make_change_better(n, denom, ways)\n",
    "    print result\n",
    "    \n",
    "make_change_test()"
   ]
  },
  {
   "cell_type": "markdown",
   "metadata": {},
   "source": [
    "### Knapsack\n",
    "Given a set of items, each with a weight and a value, determine the number of each item to include in a collection so that the total weight is less than or equal to a given limit and the total value is as large as possible."
   ]
  },
  {
   "cell_type": "code",
   "execution_count": 27,
   "metadata": {
    "collapsed": false
   },
   "outputs": [
    {
     "name": "stdout",
     "output_type": "stream",
     "text": [
      "Bagged the following 14 items\n",
      "  3 of: banana\n",
      "  1 of: cheese\n",
      "  1 of: compass\n",
      "  2 of: glucose\n",
      "  1 of: map\n",
      "  1 of: note-case\n",
      "  1 of: socks\n",
      "  1 of: sunglasses\n",
      "  1 of: suntan cream\n",
      "  1 of: water\n",
      "  1 of: waterproof overclothes\n",
      "for a total value of 1010 and a total weight of 396\n"
     ]
    }
   ],
   "source": [
    "from itertools import groupby\n",
    " \n",
    "try:\n",
    "    xrange\n",
    "except:\n",
    "    xrange = range\n",
    " \n",
    "maxwt = 400\n",
    " \n",
    "groupeditems = (\n",
    "            (\"map\", 9, 150, 1),\n",
    "            (\"compass\", 13, 35, 1),\n",
    "            (\"water\", 153, 200, 3),\n",
    "            (\"sandwich\", 50, 60, 2),\n",
    "            (\"glucose\", 15, 60, 2),\n",
    "            (\"tin\", 68, 45, 3),\n",
    "            (\"banana\", 27, 60, 3),\n",
    "            (\"apple\", 39, 40, 3),\n",
    "            (\"cheese\", 23, 30, 1),\n",
    "            (\"beer\", 52, 10, 3),\n",
    "            (\"suntan cream\", 11, 70, 1),\n",
    "            (\"camera\", 32, 30, 1),\n",
    "            (\"t-shirt\", 24, 15, 2),\n",
    "            (\"trousers\", 48, 10, 2),\n",
    "            (\"umbrella\", 73, 40, 1),\n",
    "            (\"waterproof trousers\", 42, 70, 1),\n",
    "            (\"waterproof overclothes\", 43, 75, 1),\n",
    "            (\"note-case\", 22, 80, 1),\n",
    "            (\"sunglasses\", 7, 20, 1),\n",
    "            (\"towel\", 18, 12, 2),\n",
    "            (\"socks\", 4, 50, 1),\n",
    "            (\"book\", 30, 10, 2),\n",
    "           )\n",
    "\n",
    "items = sum( ([(item, wt, val)]*n for item, wt, val,n in groupeditems), [])\n",
    " \n",
    "def knapsack01_dp(items, limit):\n",
    "    table = [[0 for w in range(limit + 1)] for j in xrange(len(items) + 1)]\n",
    " \n",
    "    for j in xrange(1, len(items) + 1):\n",
    "        item, wt, val = items[j-1]\n",
    "        for w in xrange(1, limit + 1):\n",
    "            if wt > w:\n",
    "                table[j][w] = table[j-1][w]\n",
    "            else:\n",
    "                table[j][w] = max(table[j-1][w],\n",
    "                                  table[j-1][w-wt] + val)\n",
    " \n",
    "    result = []\n",
    "    w = limit\n",
    "    for j in range(len(items), 0, -1):\n",
    "        was_added = table[j][w] != table[j-1][w]\n",
    " \n",
    "        if was_added:\n",
    "            item, wt, val = items[j-1]\n",
    "            result.append(items[j-1])\n",
    "            w -= wt\n",
    " \n",
    "    return result\n",
    " \n",
    " \n",
    "bagged = knapsack01_dp(items, maxwt)\n",
    "print(\"Bagged the following %i items\\n  \" % len(bagged) +\n",
    "      '\\n  '.join('%i of: %s' % (len(list(grp)), item[0])\n",
    "                  for item,grp in groupby(sorted(bagged))))\n",
    "print(\"for a total value of %i and a total weight of %i\" % (\n",
    "    sum(item[2] for item in bagged), sum(item[1] for item in bagged)))"
   ]
  },
  {
   "cell_type": "markdown",
   "metadata": {},
   "source": [
    "## Worked solutions\n",
    "Interview questions\n",
    "- [Google cumulative sum](#Google-cumulative-sum)\n",
    "- [Google expression evaluation](#Google-expression-evaluation)\n",
    "- [Google voting record](#Google-voting-record)\n",
    "\n",
    "Others\n",
    "- [Nqueens](#Nqueens)\n",
    "- [Rotated search](#Rotated-search)\n",
    "\n",
    "[Back to top](#Table-of-contents)"
   ]
  },
  {
   "cell_type": "markdown",
   "metadata": {},
   "source": [
    "### Google cumulative sum\n",
    "Cumulative sum on 2D array. Pad with zeroes on the left and top for easier algorithm.\n",
    "\n",
    "[Back to worked solutions](#Worked-solutions)"
   ]
  },
  {
   "cell_type": "code",
   "execution_count": 21,
   "metadata": {
    "collapsed": false
   },
   "outputs": [
    {
     "name": "stdout",
     "output_type": "stream",
     "text": [
      "[1, 2, 3]      [1, 3, 6]\n",
      "[3, 2, 1]      [4, 8, 12]\n",
      "[4, 5, 6]      [8, 17, 27]\n"
     ]
    }
   ],
   "source": [
    "def google_2d_sum(inp):\n",
    "    row = len(inp) + 1\n",
    "    col = len(inp[0]) + 1\n",
    "    result = [[0 for _ in range(col)] for _ in range(row)]\n",
    "    for i in xrange(1, row):\n",
    "        for j in xrange(1, col):\n",
    "            result[i][j] = (inp[i - 1][j - 1] + result[i - 1][j] +\n",
    "                            result[i][j - 1] - result[i - 1][j - 1])\n",
    "\n",
    "    return [x[1:] for x in result[1:]]\n",
    "\n",
    "\n",
    "twod_sum_test = [[1, 2, 3], [3, 2, 1], [4, 5, 6]]\n",
    "res = google_2d_sum(twod_sum_test)\n",
    "\n",
    "for a, b in zip(twod_sum_test, res):\n",
    "    print a, \"    \", b"
   ]
  },
  {
   "cell_type": "markdown",
   "metadata": {},
   "source": [
    "### Google expression evaluation\n",
    "Evaluate expressions: a = \"+(+(1,2), +(2,3))\"\n",
    "\n",
    "Notable assumptions include: the expression is valid, notably there will be no things such as divide by 0 errors. In this solution every operation on the stacks is guaranteed to be O(1).\n",
    "\n",
    "[Back to worked solutions](#Worked-solutions)"
   ]
  },
  {
   "cell_type": "code",
   "execution_count": 22,
   "metadata": {
    "collapsed": false
   },
   "outputs": [
    {
     "name": "stdout",
     "output_type": "stream",
     "text": [
      "33\n"
     ]
    }
   ],
   "source": [
    "def google_expr_eval(expr):\n",
    "    operators = ['+', '-', '*', '/']\n",
    "    operator_stack = []\n",
    "    number_stack = []\n",
    "    curr_num = None\n",
    "    for c in expr:\n",
    "        if c in operators:\n",
    "            operator_stack.append(c)\n",
    "        elif c.isdigit():\n",
    "            if curr_num is None:\n",
    "                curr_num = int(c)\n",
    "            else:\n",
    "                curr_num = curr_num * 10 + int(c)\n",
    "        elif c == ',':\n",
    "            if curr_num:\n",
    "                number_stack.append(curr_num)\n",
    "                curr_num = None\n",
    "        elif c == ')':\n",
    "            if curr_num:\n",
    "                number_stack.append(curr_num)\n",
    "                curr_num = None\n",
    "            curr_opr = operator_stack.pop()\n",
    "            n2 = number_stack.pop()\n",
    "            n1 = number_stack.pop()\n",
    "            if curr_opr == '+':\n",
    "                number_stack.append(n1 + n2)\n",
    "            elif curr_opr == '*':\n",
    "                number_stack.append(n1 * n2)\n",
    "            elif curr_opr == '-':\n",
    "                number_stack.append(n1 - n2)\n",
    "            elif curr_opr == \"/\":\n",
    "                number_stack.append(n1 / n2)\n",
    "\n",
    "    return number_stack[0]\n",
    "\n",
    "\n",
    "expr_eval_test = \"+(+(15,12), *(2,3))\"\n",
    "print google_expr_eval(expr_eval_test)"
   ]
  },
  {
   "cell_type": "markdown",
   "metadata": {},
   "source": [
    "### Google voting record\n",
    "Given voting record (timestamp, candidate voted) write a function, getTop(input, T) which returns top candidate on time T.\n",
    "\n",
    "input = [(timestamp, candidate voted)]  \n",
    "10 A  \n",
    "20 B  \n",
    "30 A  \n",
    "40 C  \n",
    "50 B  \n",
    "60 D  \n",
    "70 C  \n",
    "80 C  \n",
    "\n",
    "getTop(input, 43) -> A  \n",
    "getTop(input, 86) -> C\n",
    "\n",
    "[Back to worked solutions](#Worked-solutions)"
   ]
  },
  {
   "cell_type": "code",
   "execution_count": 23,
   "metadata": {
    "collapsed": false
   },
   "outputs": [
    {
     "name": "stdout",
     "output_type": "stream",
     "text": [
      "A\n",
      "C\n"
     ]
    }
   ],
   "source": [
    "def google_voting_record(inp, time):\n",
    "    max_count = 0\n",
    "    votes = defaultdict(int)\n",
    "    votes_max = defaultdict(list)\n",
    "    for (t, v) in inp:\n",
    "        if t > time:\n",
    "            return votes_max[max_count][0]\n",
    "        votes[v] += 1\n",
    "        max_count = max(votes[v], max_count)\n",
    "        votes_max[votes[v]].append(v)\n",
    "\n",
    "    return votes_max[max_count][0]\n",
    "\n",
    "\n",
    "voting_record_test = [(10, 'A'), (20, 'B'), (30, 'A'), (40, 'C'), (50, 'B'),\n",
    "                          (60, 'D'), (65, 'E'), (70, 'C'), (80, 'C')]\n",
    "\n",
    "print google_voting_record(voting_record_test, 43)\n",
    "print google_voting_record(voting_record_test, 86)"
   ]
  },
  {
   "cell_type": "markdown",
   "metadata": {},
   "source": [
    "### Nqueens\n",
    "CTCI 9.9"
   ]
  },
  {
   "cell_type": "code",
   "execution_count": 24,
   "metadata": {
    "collapsed": false
   },
   "outputs": [
    {
     "name": "stdout",
     "output_type": "stream",
     "text": [
      "92\n"
     ]
    }
   ],
   "source": [
    "def check_diag(i, placed, col, pos):\n",
    "    if placed == 0:\n",
    "        return True\n",
    "    check_row = placed\n",
    "    check_col = i\n",
    "    for j in xrange(0, placed):\n",
    "        cur_row = j\n",
    "        cur_col = pos[j]\n",
    "        diff_col = abs(cur_row - check_row)\n",
    "        diff_row = abs(cur_col - check_col)\n",
    "        if diff_col == diff_row:\n",
    "            return False\n",
    "    return True\n",
    "\n",
    "\n",
    "def n_queens(n, placed, col, pos):\n",
    "    if placed == n:\n",
    "        return 1\n",
    "    ways = 0\n",
    "    for i in xrange(n):\n",
    "        if not col[i] and check_diag(i, placed, col, pos):\n",
    "            col[i] = True\n",
    "            pos[placed] = i\n",
    "            ways += n_queens(n, placed + 1, col, pos)\n",
    "            col[i] = False\n",
    "    return ways\n",
    "\n",
    "\n",
    "def n_queens_test():\n",
    "    n = 8\n",
    "    col = [False] * n\n",
    "    pos = [-1] * n\n",
    "    print n_queens(n, 0, col, pos)\n",
    "\n",
    "n_queens_test()"
   ]
  },
  {
   "cell_type": "markdown",
   "metadata": {},
   "source": [
    "### Rotated search\n",
    "CTCI 11.3\n",
    "\n",
    "Sorted array of n integers that has been rotated\n",
    "Write code to find an element in the array"
   ]
  },
  {
   "cell_type": "code",
   "execution_count": 25,
   "metadata": {
    "collapsed": false
   },
   "outputs": [
    {
     "name": "stdout",
     "output_type": "stream",
     "text": [
      "0\n",
      "1\n",
      "2\n",
      "3\n",
      "4\n",
      "5\n",
      "6\n",
      "7\n",
      "8\n",
      "9\n",
      "10\n",
      "11\n"
     ]
    }
   ],
   "source": [
    "def rotated_search(data, value):\n",
    "    # Use binary search the find the actual start point\n",
    "    low = 0\n",
    "    high = len(data) - 1\n",
    "    mid = 0\n",
    "\n",
    "    # Search the switch point\n",
    "    if data[high] < data[low]:\n",
    "        while high >= low:\n",
    "            mid = low + (high - low) / 2\n",
    "            if data[mid] > data[mid + 1]:\n",
    "                break\n",
    "            elif data[mid] > data[0]:\n",
    "                low = mid + 1\n",
    "            else:\n",
    "                high = mid - 1\n",
    "\n",
    "    if value < data[0]:\n",
    "        low = mid\n",
    "        high = len(data) - 1\n",
    "    else:\n",
    "        high = mid\n",
    "        low = 0\n",
    "\n",
    "    # Normal binary search\n",
    "    while high >= low:\n",
    "        mid = low + (high - low) / 2\n",
    "        if data[mid] == value:\n",
    "            return mid\n",
    "        elif data[mid] > value:\n",
    "            high = mid - 1\n",
    "        else:\n",
    "            low = mid + 1\n",
    "    return -1\n",
    "\n",
    "\n",
    "def rotated_search_test():\n",
    "    data1 = [15, 16, 19, 20, 25, 1, 3, 4, 5, 7, 10, 14]\n",
    "    for item in data1:\n",
    "        print rotated_search(data1, item)\n",
    "\n",
    "\n",
    "rotated_search_test()"
   ]
  },
  {
   "cell_type": "markdown",
   "metadata": {},
   "source": [
    "## Interview\n",
    "- [General tips](#General-interview-tips)\n",
    "- [CV](#CV)\n",
    "\n",
    "[Back to top](#Table-of-contents)"
   ]
  },
  {
   "cell_type": "markdown",
   "metadata": {},
   "source": [
    "### General interview tips\n",
    "- It is all about impression\n",
    "- State every solution that is available, from simple brute force to the most complex one\n",
    "    - Discuss each solution in terms of time / space / tradeoffs / offline vs. online etc\n",
    "    - Try to sense what the interviewer wants\n",
    "    - Perhaps ask them if the solution is ok and can begin coding\n",
    "- Show the most important aspects of the solution\n",
    "    - Should write supporting methods in stubs\n",
    "    \n",
    "[Back to interview](#Interview)"
   ]
  },
  {
   "cell_type": "markdown",
   "metadata": {},
   "source": [
    "### CV\n",
    "**[Dec 2014 - Feb 2015] The Hut Challenge**\n",
    "- Given the purchase history of a customer (for over a year), predict what they will buy in the next 4 months\n",
    "- Random walks on the product-customer graph. Key insight being that if customers that have higher similarity in purchase history, they are likely to buy the same product\n",
    "- Using rules to filter the data: Certain products that have high sales volume are actually sales products. All their sales came from a short period of time. Not useful for predicting in the next 4 months.\n",
    "\n",
    "**[Jul 2015 - Sep 2015] Knowledge discovery from News Articles**\n",
    "- Clustering: Bisecting KMeans clustering\n",
    "- Overlapping community detection: Utilised bigclam algorithm that assumes dense community overlaps\n",
    "\n",
    "[Back to interview](#Interview)"
   ]
  },
  {
   "cell_type": "markdown",
   "metadata": {},
   "source": [
    "### General questions\n",
    "To ask the interviewers\n",
    "- Aspect of work that they enjoy the most\n",
    "- Most challenging / interesting piece of work that they did in the last few months\n",
    "- Why they chose [insert company here] instead of working somewhere else\n",
    "\n",
    "[Back to interview](#Interview)"
   ]
  }
 ],
 "metadata": {
  "kernelspec": {
   "display_name": "Python 2",
   "language": "python",
   "name": "python2"
  },
  "language_info": {
   "codemirror_mode": {
    "name": "ipython",
    "version": 2
   },
   "file_extension": ".py",
   "mimetype": "text/x-python",
   "name": "python",
   "nbconvert_exporter": "python",
   "pygments_lexer": "ipython2",
   "version": "2.7.6"
  }
 },
 "nbformat": 4,
 "nbformat_minor": 0
}
