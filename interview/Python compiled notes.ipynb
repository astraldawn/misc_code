{
 "cells": [
  {
   "cell_type": "markdown",
   "metadata": {},
   "source": [
    "# Table of contents\n",
    "- [Style](#Style)\n",
    "- [Common algorithms](#Algorithms)"
   ]
  },
  {
   "cell_type": "markdown",
   "metadata": {},
   "source": [
    "## Style\n",
    "- [Variable swap](#Variable-swap)\n",
    "- [Ignored variables](#Ignored-variables)\n",
    "- [Lists of lists](#List-of-lists)\n",
    "- [String from list](#String-from-list)\n",
    "- [Searching in collection](#Searching-in-collection)\n",
    "- [Checking if a variable equals constant](#Checking-if-a-variable-equals-constant)\n",
    "- [Dictionary access](#Dictionary-access)\n",
    "- [Filter](#Filter)\n",
    "- [Map](#Map)\n",
    "- [Enumerate](#Enumerate)\n",
    "- [File access](#File-access)"
   ]
  },
  {
   "cell_type": "markdown",
   "metadata": {},
   "source": [
    "### Variable swap \n",
    "Without any additional memory"
   ]
  },
  {
   "cell_type": "code",
   "execution_count": 1,
   "metadata": {
    "collapsed": false
   },
   "outputs": [
    {
     "name": "stdout",
     "output_type": "stream",
     "text": [
      "hi bye\n",
      "bye hi\n"
     ]
    }
   ],
   "source": [
    "a = \"hi\"\n",
    "b = \"bye\"\n",
    "print a, b\n",
    "a, b = b, a\n",
    "print a, b"
   ]
  },
  {
   "cell_type": "markdown",
   "metadata": {},
   "source": [
    "### Ignored variables"
   ]
  },
  {
   "cell_type": "code",
   "execution_count": 2,
   "metadata": {
    "collapsed": true
   },
   "outputs": [],
   "source": [
    "filename = 'a.txt'\n",
    "basename, _, ext = filename.rpartition('.')"
   ]
  },
  {
   "cell_type": "markdown",
   "metadata": {},
   "source": [
    "### List of lists\n",
    "This process is necessary as lists are mutable objects (unlike primitives).\n",
    "\n",
    "Simply taking list * n will create n references to the same list"
   ]
  },
  {
   "cell_type": "code",
   "execution_count": 3,
   "metadata": {
    "collapsed": false
   },
   "outputs": [],
   "source": [
    "n = 5\n",
    "\n",
    "# Four nones\n",
    "four_none = [None] * 4\n",
    "\n",
    "# Length n list of lists\n",
    "n_lists = [[] for _ in xrange(n)]\n",
    "\n",
    "# 2D list\n",
    "twod_list = [[0 for _ in xrange(n)] for _ in xrange(n)]"
   ]
  },
  {
   "cell_type": "markdown",
   "metadata": {},
   "source": [
    "### String from list\n",
    "Analogous to stringbuilder"
   ]
  },
  {
   "cell_type": "code",
   "execution_count": 4,
   "metadata": {
    "collapsed": true
   },
   "outputs": [],
   "source": [
    "letters = ['a', 'b', 'c', 'd']\n",
    "word = ''.join(letters)"
   ]
  },
  {
   "cell_type": "markdown",
   "metadata": {},
   "source": [
    "### Searching in collection\n",
    "\n",
    "Time complexity\n",
    "    - set / dict O(1)\n",
    "    - list O(N)"
   ]
  },
  {
   "cell_type": "code",
   "execution_count": 5,
   "metadata": {
    "collapsed": true
   },
   "outputs": [],
   "source": [
    "# item in collection\n",
    "# item not in collection"
   ]
  },
  {
   "cell_type": "markdown",
   "metadata": {},
   "source": [
    "### Checking if a variable equals constant\n",
    "\n",
    "Empty list evaluates to false"
   ]
  },
  {
   "cell_type": "code",
   "execution_count": 6,
   "metadata": {
    "collapsed": true
   },
   "outputs": [],
   "source": [
    "# if attr: # True\n",
    "# if not attr: # False"
   ]
  },
  {
   "cell_type": "markdown",
   "metadata": {},
   "source": [
    "### Dictionary access"
   ]
  },
  {
   "cell_type": "code",
   "execution_count": 7,
   "metadata": {
    "collapsed": true
   },
   "outputs": [],
   "source": [
    "d = {'a':'1'}\n",
    "if 'a' in d:\n",
    "    pass # Do something"
   ]
  },
  {
   "cell_type": "markdown",
   "metadata": {},
   "source": [
    "### Filter"
   ]
  },
  {
   "cell_type": "code",
   "execution_count": 8,
   "metadata": {
    "collapsed": true
   },
   "outputs": [],
   "source": [
    "a = [3, 4, 5]\n",
    "b = [i for i in a if i > 4]\n",
    "b = filter(lambda x: x > 4, a)"
   ]
  },
  {
   "cell_type": "markdown",
   "metadata": {},
   "source": [
    "### Map"
   ]
  },
  {
   "cell_type": "code",
   "execution_count": 9,
   "metadata": {
    "collapsed": true
   },
   "outputs": [],
   "source": [
    "a = [3, 4, 5]\n",
    "b = [i + 3 for i in a]\n",
    "b = map(lambda x: x + 3, a)"
   ]
  },
  {
   "cell_type": "markdown",
   "metadata": {},
   "source": [
    "### Enumerate"
   ]
  },
  {
   "cell_type": "code",
   "execution_count": 10,
   "metadata": {
    "collapsed": false
   },
   "outputs": [
    {
     "name": "stdout",
     "output_type": "stream",
     "text": [
      "0 3\n",
      "1 4\n",
      "2 5\n"
     ]
    }
   ],
   "source": [
    "for i, item in enumerate(a):\n",
    "    print i, item"
   ]
  },
  {
   "cell_type": "markdown",
   "metadata": {},
   "source": [
    "### File access\n",
    "with ensures the file is closed"
   ]
  },
  {
   "cell_type": "code",
   "execution_count": 11,
   "metadata": {
    "collapsed": true
   },
   "outputs": [],
   "source": [
    "# with open('file.txt', 'rb') as f:\n",
    "#    for line in f:\n",
    "#        print line"
   ]
  },
  {
   "cell_type": "markdown",
   "metadata": {},
   "source": [
    "## Algorithms\n",
    "- [Sorting](#Sorting)"
   ]
  },
  {
   "cell_type": "markdown",
   "metadata": {},
   "source": [
    "### Sorting\n",
    "Using sort (lists only) and sorted (everything else)\n",
    "\n",
    "Python uses Timsort, which is a stable sort"
   ]
  },
  {
   "cell_type": "code",
   "execution_count": 12,
   "metadata": {
    "collapsed": false,
    "scrolled": true
   },
   "outputs": [
    {
     "name": "stdout",
     "output_type": "stream",
     "text": [
      "[1, 2, 3, 4, 5]\n",
      "[1, 2, 3, 4, 5]\n"
     ]
    }
   ],
   "source": [
    "# Sort\n",
    "a = [1, 2, 3, 4, 5]\n",
    "a.sort()\n",
    "print a\n",
    "print sorted(a)"
   ]
  },
  {
   "cell_type": "code",
   "execution_count": 13,
   "metadata": {
    "collapsed": false
   },
   "outputs": [
    {
     "name": "stdout",
     "output_type": "stream",
     "text": [
      "[('dave', 'B', 10), ('jane', 'B', 12), ('john', 'A', 15)]\n",
      "[('john', 'A', 15), ('jane', 'B', 12), ('dave', 'B', 10)]\n"
     ]
    }
   ],
   "source": [
    "student_tuples = [\n",
    "    ('john', 'A', 15),\n",
    "    ('jane', 'B', 12),\n",
    "    ('dave', 'B', 10),\n",
    "]\n",
    "print sorted(student_tuples, key=lambda x: x[2]) # Sort in ascending age\n",
    "print sorted(student_tuples, key=lambda x: -x[2]) # Sort in descending age"
   ]
  }
 ],
 "metadata": {
  "kernelspec": {
   "display_name": "Python 2",
   "language": "python",
   "name": "python2"
  },
  "language_info": {
   "codemirror_mode": {
    "name": "ipython",
    "version": 2
   },
   "file_extension": ".py",
   "mimetype": "text/x-python",
   "name": "python",
   "nbconvert_exporter": "python",
   "pygments_lexer": "ipython2",
   "version": "2.7.6"
  }
 },
 "nbformat": 4,
 "nbformat_minor": 0
}
