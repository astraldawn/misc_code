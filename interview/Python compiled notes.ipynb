{
 "cells": [
  {
   "cell_type": "markdown",
   "metadata": {},
   "source": [
    "# Table of contents\n",
    "- [Style](#Style)\n",
    "- [General python](#General-python)\n",
    "- [Algorithms](#Algorithms)"
   ]
  },
  {
   "cell_type": "markdown",
   "metadata": {},
   "source": [
    "## Style\n",
    "- [Variable swap](#Variable-swap)\n",
    "- [Ignored variables](#Ignored-variables)\n",
    "- [Lists of lists](#List-of-lists)\n",
    "- [String from list](#String-from-list)\n",
    "- [Searching in collection](#Searching-in-collection)\n",
    "- [Checking if a variable equals constant](#Checking-if-a-variable-equals-constant)\n",
    "- [Dictionary access](#Dictionary-access)\n",
    "- [Filter](#Filter)\n",
    "- [Map](#Map)\n",
    "- [Enumerate](#Enumerate)\n",
    "- [File access](#File-access)\n",
    "- [Collections](#Collections)\n",
    "\n",
    "[Back to top](#Table-of-contents)"
   ]
  },
  {
   "cell_type": "markdown",
   "metadata": {},
   "source": [
    "### Variable swap \n",
    "Without any additional memory"
   ]
  },
  {
   "cell_type": "code",
   "execution_count": 1,
   "metadata": {
    "collapsed": false
   },
   "outputs": [
    {
     "name": "stdout",
     "output_type": "stream",
     "text": [
      "hi bye\n",
      "bye hi\n"
     ]
    }
   ],
   "source": [
    "a = \"hi\"\n",
    "b = \"bye\"\n",
    "print a, b\n",
    "a, b = b, a\n",
    "print a, b"
   ]
  },
  {
   "cell_type": "markdown",
   "metadata": {},
   "source": [
    "### Ignored variables"
   ]
  },
  {
   "cell_type": "code",
   "execution_count": 2,
   "metadata": {
    "collapsed": true
   },
   "outputs": [],
   "source": [
    "filename = 'a.txt'\n",
    "basename, _, ext = filename.rpartition('.')"
   ]
  },
  {
   "cell_type": "markdown",
   "metadata": {},
   "source": [
    "### List of lists\n",
    "**Ideally construct using numpy**\n",
    "\n",
    "This process is necessary as lists are mutable objects (unlike primitives).\n",
    "\n",
    "Simply taking list * n will create n references to the same list"
   ]
  },
  {
   "cell_type": "code",
   "execution_count": 3,
   "metadata": {
    "collapsed": false
   },
   "outputs": [],
   "source": [
    "n = 5\n",
    "\n",
    "# Four nones\n",
    "four_none = [None] * 4\n",
    "\n",
    "# Length n list of lists\n",
    "n_lists = [[] for _ in xrange(n)]\n",
    "\n",
    "# 2D list\n",
    "twod_list = [[0 for _ in xrange(n)] for _ in xrange(n)]\n",
    "\n",
    "# The numpy way\n",
    "import numpy as np\n",
    "\n",
    "twod_np = np.empty((n, n))\n",
    "twod_np.fill(0)"
   ]
  },
  {
   "cell_type": "markdown",
   "metadata": {},
   "source": [
    "### String from list\n",
    "Analogous to stringbuilder"
   ]
  },
  {
   "cell_type": "code",
   "execution_count": 4,
   "metadata": {
    "collapsed": true
   },
   "outputs": [],
   "source": [
    "letters = ['a', 'b', 'c', 'd']\n",
    "word = ''.join(letters)"
   ]
  },
  {
   "cell_type": "markdown",
   "metadata": {},
   "source": [
    "### Searching in collection\n",
    "\n",
    "Time complexity\n",
    "    - set / dict O(1)\n",
    "    - list O(N)"
   ]
  },
  {
   "cell_type": "code",
   "execution_count": 5,
   "metadata": {
    "collapsed": true
   },
   "outputs": [],
   "source": [
    "# item in collection\n",
    "# item not in collection"
   ]
  },
  {
   "cell_type": "markdown",
   "metadata": {},
   "source": [
    "### Checking if a variable equals constant\n",
    "\n",
    "Empty list evaluates to false"
   ]
  },
  {
   "cell_type": "code",
   "execution_count": 6,
   "metadata": {
    "collapsed": true
   },
   "outputs": [],
   "source": [
    "# if attr: # True\n",
    "# if not attr: # False"
   ]
  },
  {
   "cell_type": "markdown",
   "metadata": {},
   "source": [
    "### Dictionary access"
   ]
  },
  {
   "cell_type": "code",
   "execution_count": 7,
   "metadata": {
    "collapsed": true
   },
   "outputs": [],
   "source": [
    "d = {'a':'1'}\n",
    "if 'a' in d:\n",
    "    pass # Do something"
   ]
  },
  {
   "cell_type": "markdown",
   "metadata": {},
   "source": [
    "### Filter"
   ]
  },
  {
   "cell_type": "code",
   "execution_count": 8,
   "metadata": {
    "collapsed": true
   },
   "outputs": [],
   "source": [
    "a = [3, 4, 5]\n",
    "b = [i for i in a if i > 4]\n",
    "b = filter(lambda x: x > 4, a)"
   ]
  },
  {
   "cell_type": "markdown",
   "metadata": {},
   "source": [
    "### Map"
   ]
  },
  {
   "cell_type": "code",
   "execution_count": 9,
   "metadata": {
    "collapsed": true
   },
   "outputs": [],
   "source": [
    "a = [3, 4, 5]\n",
    "b = [i + 3 for i in a]\n",
    "b = map(lambda x: x + 3, a)"
   ]
  },
  {
   "cell_type": "markdown",
   "metadata": {},
   "source": [
    "### Enumerate"
   ]
  },
  {
   "cell_type": "code",
   "execution_count": 10,
   "metadata": {
    "collapsed": false
   },
   "outputs": [
    {
     "name": "stdout",
     "output_type": "stream",
     "text": [
      "0 3\n",
      "1 4\n",
      "2 5\n"
     ]
    }
   ],
   "source": [
    "for i, item in enumerate(a):\n",
    "    print i, item"
   ]
  },
  {
   "cell_type": "markdown",
   "metadata": {},
   "source": [
    "### File access\n",
    "with ensures the file is closed"
   ]
  },
  {
   "cell_type": "code",
   "execution_count": 11,
   "metadata": {
    "collapsed": false
   },
   "outputs": [
    {
     "name": "stdout",
     "output_type": "stream",
     "text": [
      "The quick brown fox jumped over the lazy dog.\n"
     ]
    }
   ],
   "source": [
    "with open('test.txt', 'rb') as f:\n",
    "   for line in f:\n",
    "       print line"
   ]
  },
  {
   "cell_type": "markdown",
   "metadata": {},
   "source": [
    "### Collections\n",
    "Powerful inbuilt libraries. Defaultdict is likely to be used. Other libraries include deque."
   ]
  },
  {
   "cell_type": "code",
   "execution_count": 12,
   "metadata": {
    "collapsed": false
   },
   "outputs": [
    {
     "name": "stdout",
     "output_type": "stream",
     "text": [
      "defaultdict(<type 'list'>, {'a': ['x', '5']})\n"
     ]
    }
   ],
   "source": [
    "from collections import defaultdict\n",
    "\n",
    "A = defaultdict(list)  # int can be used also\n",
    "A['a'].append('x')\n",
    "A['a'].append('5')\n",
    "print A"
   ]
  },
  {
   "cell_type": "markdown",
   "metadata": {},
   "source": [
    "## General python\n",
    "- [Mutable vs immutable](#Mutable-vs-immutable)\n",
    "- [Comparisons](#Comparisons)\n",
    "- [Range and xrange](#range-and-xrange)\n",
    "- [Generators / list comprehensions](#generators-and-list-comprehensions)\n",
    "- [Time complexity](#Time-complexity)\n",
    "- [Memory management](#Memory-management)\n",
    "\n",
    "[Back to top](#Table-of-contents)"
   ]
  },
  {
   "cell_type": "markdown",
   "metadata": {},
   "source": [
    "### Mutable vs immutable\n",
    "The different types of objects in Python"
   ]
  },
  {
   "cell_type": "markdown",
   "metadata": {},
   "source": [
    "### Comparisons"
   ]
  },
  {
   "cell_type": "markdown",
   "metadata": {},
   "source": [
    "### range and xrange"
   ]
  },
  {
   "cell_type": "markdown",
   "metadata": {},
   "source": [
    "### Generators and list comprehensions"
   ]
  },
  {
   "cell_type": "markdown",
   "metadata": {},
   "source": [
    "### Time complexity\n",
    "Time complexity of certain operations"
   ]
  },
  {
   "cell_type": "markdown",
   "metadata": {},
   "source": [
    "### Memory management"
   ]
  },
  {
   "cell_type": "markdown",
   "metadata": {},
   "source": [
    "## Algorithms\n",
    "- Ad-hoc\n",
    "    - [Sorting](#Sorting)\n",
    "    - [Binary search](#Binary-search)\n",
    "    - [Hashing](#Hashing)\n",
    "    - [Random](#Random)\n",
    "- Dynamic programming\n",
    "    - [Coin change](#Coin-change)\n",
    "- Graphs\n",
    "- String processing\n",
    "\n",
    "[Back to top](#Table-of-contents)"
   ]
  },
  {
   "cell_type": "markdown",
   "metadata": {},
   "source": [
    "### Sorting\n",
    "Using sort (lists only) and sorted (everything else)\n",
    "\n",
    "Python uses Timsort, which is a stable sorting algorithm derived from mergesort and insertion sort.\n",
    "\n",
    "[Back to algorithms](#Algorithms)"
   ]
  },
  {
   "cell_type": "code",
   "execution_count": 13,
   "metadata": {
    "collapsed": false,
    "scrolled": true
   },
   "outputs": [
    {
     "name": "stdout",
     "output_type": "stream",
     "text": [
      "[1, 2, 3, 4, 5]\n",
      "[1, 2, 3, 4, 5]\n"
     ]
    }
   ],
   "source": [
    "a = [1, 2, 3, 4, 5]\n",
    "a.sort()\n",
    "print a\n",
    "print sorted(a)"
   ]
  },
  {
   "cell_type": "code",
   "execution_count": 14,
   "metadata": {
    "collapsed": false
   },
   "outputs": [
    {
     "name": "stdout",
     "output_type": "stream",
     "text": [
      "[('dave', 'B', 10), ('jane', 'B', 12), ('john', 'A', 15)]\n",
      "[('john', 'A', 15), ('jane', 'B', 12), ('dave', 'B', 10)]\n"
     ]
    }
   ],
   "source": [
    "student_tuples = [\n",
    "    ('john', 'A', 15),\n",
    "    ('jane', 'B', 12),\n",
    "    ('dave', 'B', 10),\n",
    "]\n",
    "print sorted(student_tuples, key=lambda x: x[2]) # Sort in ascending age\n",
    "print sorted(student_tuples, key=lambda x: -x[2]) # Sort in descending age"
   ]
  },
  {
   "cell_type": "markdown",
   "metadata": {},
   "source": [
    "### Binary search\n",
    "Examples that do it the full way as well as using bisect\n",
    "\n",
    "[Back to algorithms](#Algorithms)"
   ]
  },
  {
   "cell_type": "code",
   "execution_count": 15,
   "metadata": {
    "collapsed": false
   },
   "outputs": [
    {
     "name": "stdout",
     "output_type": "stream",
     "text": [
      "[0, 1, 2, 3, 4] [0, 1, 2, 3, 4, -1] [0, 1, 2, 3, 4, -1] [0, 1, 2, 3, 4, 5] [0, 1, 2, 3, 4, 5] [1, 2, 3, 4, 5, 5]\n"
     ]
    }
   ],
   "source": [
    "def binary_search_find(A, value):\n",
    "    low = 0\n",
    "    high = len(A) - 1\n",
    "\n",
    "    while low <= high:\n",
    "        mid = low + (high - low) / 2\n",
    "        if A[mid] == value:\n",
    "            return mid\n",
    "        elif A[mid] >= value:\n",
    "            high = mid - 1\n",
    "        else:\n",
    "            low = mid + 1\n",
    "    return -1\n",
    "\n",
    "\n",
    "def binary_search_left(A, value):\n",
    "    low = 0\n",
    "    high = len(A) - 1\n",
    "\n",
    "    while low <= high:\n",
    "        mid = low + (high - low) / 2\n",
    "        if A[mid] >= value:  # Leftmost insertion point (rightmost is >)\n",
    "            high = mid - 1\n",
    "        else:\n",
    "            low = mid + 1\n",
    "\n",
    "    return low\n",
    "\n",
    "\n",
    "import bisect\n",
    "\n",
    "\n",
    "def binary_search_find_python(A, value):\n",
    "    high = len(A) - 1\n",
    "    pos = bisect.bisect_left(A, value)\n",
    "\n",
    "    if pos <= high:\n",
    "        return pos\n",
    "\n",
    "    return -1\n",
    "\n",
    "\n",
    "A = range(5)\n",
    "B = [binary_search_find(A, x) for x in range(6)]\n",
    "B1 = [binary_search_find_python(A, x) for x in range(6)]\n",
    "C = [binary_search_left(A, x) for x in range(6)]\n",
    "D = [bisect.bisect_left(A, x) for x in range(6)]\n",
    "E = [bisect.bisect_right(A, x) for x in range(6)]\n",
    "print A, B, B1, C, D, E"
   ]
  },
  {
   "cell_type": "markdown",
   "metadata": {},
   "source": [
    "### Hashing\n",
    "Hashing library in Python includes many of the commonly known hash functions.\n",
    "\n",
    "MD5 shown below.\n",
    "\n",
    "[Back to algorithms](#Algorithms)"
   ]
  },
  {
   "cell_type": "code",
   "execution_count": 16,
   "metadata": {
    "collapsed": false
   },
   "outputs": [
    {
     "name": "stdout",
     "output_type": "stream",
     "text": [
      "5c6ffbdd40d9556b73a21e63c3e0e904\n"
     ]
    }
   ],
   "source": [
    "import hashlib\n",
    "\n",
    "# Using a block is important when dealing with files that may be very large\n",
    "BLOCKSIZE = 65536\n",
    "hasher = hashlib.md5()\n",
    "with open('test.txt', 'rb') as afile:\n",
    "    buf = afile.read(BLOCKSIZE)\n",
    "    while len(buf) > 0:\n",
    "        hasher.update(buf)\n",
    "        buf = afile.read(BLOCKSIZE)\n",
    "print(hasher.hexdigest())"
   ]
  },
  {
   "cell_type": "markdown",
   "metadata": {},
   "source": [
    "### Random\n",
    "\n",
    "Almost all module functions depend on the basic function random(), which generates a random float uniformly in the semi-open range [0.0, 1.0). Python uses the Mersenne Twister as the core generator. It produces 53-bit precision floats and has a period of 2^19937-1. The underlying implementation in C is both fast and threadsafe. The Mersenne Twister is one of the most extensively tested random number generators in existence. However, being completely deterministic, it is not suitable for all purposes, and is completely unsuitable for cryptographic purposes.\n",
    "\n",
    "**Array shuffle question: ** Given N '0' and M '1', write an algorithm that puts them into a list and returns each possible list with equal probability\n",
    "\n",
    "[Back to algorithms](#Algorithms)"
   ]
  },
  {
   "cell_type": "code",
   "execution_count": 17,
   "metadata": {
    "collapsed": false
   },
   "outputs": [
    {
     "name": "stdout",
     "output_type": "stream",
     "text": [
      "[0, 0, 0, 0, 0, 0, 0, 0, 0, 0, 0, 1, 0, 0, 0, 0, 0, 0, 0, 0, 0, 0, 0, 0, 0, 0, 0, 0, 0, 0, 0, 0, 0, 0, 0, 0, 0, 0, 0, 0, 0, 0, 0, 1, 0, 0, 0, 0, 0, 0, 0, 0, 0, 0, 0, 0, 0, 0, 0, 0, 0, 0, 1, 0]\n"
     ]
    }
   ],
   "source": [
    "from random import sample\n",
    "\n",
    "def array_shuffle(N, K):\n",
    "    A = [1] * K + [0] * (N - K)\n",
    "    return sample(A, len(A))\n",
    "    # sample(population, K) --> Random sampling without replacement\n",
    "    # shuffle(A) --> Not exactly correct due to limitations of the RNG? Need some math person to verify\n",
    "\n",
    "print array_shuffle(64, 3)\n",
    "\n",
    "# Generating a random number, O <= N <= M\n",
    "# print randint(0, M)"
   ]
  },
  {
   "cell_type": "markdown",
   "metadata": {},
   "source": [
    "### Coin change\n",
    "Classic dynamic programming problem. Given an amount N, with unlimited coins of M denominations, find the number of ways to make change.\n",
    "\n",
    "[Back to algorithms](#Algorithms)"
   ]
  },
  {
   "cell_type": "code",
   "execution_count": 18,
   "metadata": {
    "collapsed": false
   },
   "outputs": [
    {
     "name": "stdout",
     "output_type": "stream",
     "text": [
      "13\n"
     ]
    }
   ],
   "source": [
    "# Minimum number of coins needed\n",
    "def make_change1(amount, denom):\n",
    "    min_coins = np.zeros(amount + 1)\n",
    "    coin_used = np.zeros(amount + 1)\n",
    "    for i in xrange(amount + 1):\n",
    "        coin_count = i\n",
    "        new_coin = 1\n",
    "        for j in [k for k in denom if k <= i]:\n",
    "            if min_coins[i - j] + 1 < i:\n",
    "                coin_count = min_coins[i - j] + 1\n",
    "                new_coin = j\n",
    "        min_coins[i] = coin_count\n",
    "        coin_used[i] = new_coin\n",
    "    return min_coins[amount]\n",
    "\n",
    "\n",
    "# Number of ways to make change\n",
    "def make_change(amount, denom, index, c_map):\n",
    "    if c_map[amount][index] > 0:\n",
    "        return c_map[amount][index]\n",
    "    if index >= len(denom) - 1:\n",
    "        return 1\n",
    "    denom_amount = denom[index]\n",
    "    ways = 0\n",
    "\n",
    "    # Make a smaller amount without the current coin\n",
    "    for i in xrange(0, amount + 1, denom_amount):\n",
    "        ways += make_change(amount - i, denom, index + 1, c_map)\n",
    "    c_map[amount][index] = ways\n",
    "    return ways\n",
    "\n",
    "def make_change_better(n, denom, ways):\n",
    "    for coin in denom:\n",
    "        for i in xrange(coin, n + 1):\n",
    "            ways[i] += ways[i - coin]\n",
    "    return ways[n]\n",
    "\n",
    "\n",
    "def make_change_test():\n",
    "    denom = [25, 10, 5, 1]\n",
    "    n = 25\n",
    "    c_map = np.zeros((n + 1, len(denom)))\n",
    "    ways = [1] + [0] * n\n",
    "    result = make_change_better(n, denom, ways)\n",
    "    print result\n",
    "    \n",
    "make_change_test()"
   ]
  }
 ],
 "metadata": {
  "kernelspec": {
   "display_name": "Python 2",
   "language": "python",
   "name": "python2"
  },
  "language_info": {
   "codemirror_mode": {
    "name": "ipython",
    "version": 2
   },
   "file_extension": ".py",
   "mimetype": "text/x-python",
   "name": "python",
   "nbconvert_exporter": "python",
   "pygments_lexer": "ipython2",
   "version": "2.7.6"
  }
 },
 "nbformat": 4,
 "nbformat_minor": 0
}
